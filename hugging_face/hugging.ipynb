{
 "cells": [
  {
   "cell_type": "code",
   "id": "initial_id",
   "metadata": {
    "collapsed": true,
    "ExecuteTime": {
     "end_time": "2025-04-10T14:16:17.001590Z",
     "start_time": "2025-04-10T14:16:04.407483Z"
    }
   },
   "source": [
    "from langchain_community.document_loaders import PyPDFDirectoryLoader\n",
    "from langchain.text_splitter import RecursiveCharacterTextSplitter\n",
    "from langchain_community.embeddings import HuggingFaceEmbeddings\n",
    "import numpy as np\n",
    "\n",
    "# Load the PDF documents from the directory\n",
    "load = PyPDFDirectoryLoader('/home/southville/GitHub/personal/LearnLangchain/hugging_face/pdf')\n",
    "document = load.load()\n",
    "\n",
    "# Split the documents into chunks\n",
    "text_splitter = RecursiveCharacterTextSplitter(chunk_size=1000, chunk_overlap=200)\n",
    "final_document = text_splitter.split_documents(document)\n",
    "\n",
    "# Initialize the HuggingFace embeddings model\n",
    "hugging_face_embeddings = HuggingFaceEmbeddings(\n",
    "    model_name=\"BAAI/bge-small-en-v1.5\",\n",
    "    model_kwargs={'device': 'cpu'},\n",
    "    encode_kwargs={'normalize_embeddings': True}\n",
    ")\n",
    "np.array(hugging_face_embeddings.embed_query(final_document.page_content))\n",
    "\n",
    "\n",
    "\n"
   ],
   "outputs": [
    {
     "ename": "AttributeError",
     "evalue": "'list' object has no attribute 'page_content'",
     "output_type": "error",
     "traceback": [
      "\u001B[31m---------------------------------------------------------------------------\u001B[39m",
      "\u001B[31mAttributeError\u001B[39m                            Traceback (most recent call last)",
      "\u001B[36mCell\u001B[39m\u001B[36m \u001B[39m\u001B[32mIn[18]\u001B[39m\u001B[32m, line 20\u001B[39m\n\u001B[32m     14\u001B[39m \u001B[38;5;66;03m# Initialize the HuggingFace embeddings model\u001B[39;00m\n\u001B[32m     15\u001B[39m hugging_face_embeddings = HuggingFaceEmbeddings(\n\u001B[32m     16\u001B[39m     model_name=\u001B[33m\"\u001B[39m\u001B[33mBAAI/bge-small-en-v1.5\u001B[39m\u001B[33m\"\u001B[39m,\n\u001B[32m     17\u001B[39m     model_kwargs={\u001B[33m'\u001B[39m\u001B[33mdevice\u001B[39m\u001B[33m'\u001B[39m: \u001B[33m'\u001B[39m\u001B[33mcpu\u001B[39m\u001B[33m'\u001B[39m},\n\u001B[32m     18\u001B[39m     encode_kwargs={\u001B[33m'\u001B[39m\u001B[33mnormalize_embeddings\u001B[39m\u001B[33m'\u001B[39m: \u001B[38;5;28;01mTrue\u001B[39;00m}\n\u001B[32m     19\u001B[39m )\n\u001B[32m---> \u001B[39m\u001B[32m20\u001B[39m np.array(hugging_face_embeddings.embed_query(\u001B[43mfinal_document\u001B[49m\u001B[43m.\u001B[49m\u001B[43mpage_content\u001B[49m))\n",
      "\u001B[31mAttributeError\u001B[39m: 'list' object has no attribute 'page_content'"
     ]
    }
   ],
   "execution_count": 18
  }
 ],
 "metadata": {
  "kernelspec": {
   "display_name": "Python 3",
   "language": "python",
   "name": "python3"
  },
  "language_info": {
   "codemirror_mode": {
    "name": "ipython",
    "version": 2
   },
   "file_extension": ".py",
   "mimetype": "text/x-python",
   "name": "python",
   "nbconvert_exporter": "python",
   "pygments_lexer": "ipython2",
   "version": "2.7.6"
  }
 },
 "nbformat": 4,
 "nbformat_minor": 5
}
