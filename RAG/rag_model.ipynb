{
 "cells": [
  {
   "metadata": {
    "ExecuteTime": {
     "end_time": "2025-03-26T17:04:07.952239Z",
     "start_time": "2025-03-26T17:03:54.659554Z"
    }
   },
   "cell_type": "code",
   "source": [
    "from langchain_community.document_loaders import TextLoader\n",
    "from langchain.text_splitter import RecursiveCharacterTextSplitter\n",
    "from langchain_community.embeddings import OllamaEmbeddings\n",
    "from langchain_community.vectorstores import Chroma\n",
    "loader = TextLoader(\"speech.txt\")\n",
    "data = loader.load()\n",
    "text = [doc.page_content for doc in data]\n",
    "text_splitter = RecursiveCharacterTextSplitter(chunk_size=1000,chunk_overlap=200)\n",
    "documents = text_splitter.create_documents(text)\n",
    "embeddings = OllamaEmbeddings()\n",
    "db = Chroma.from_documents(documents, embeddings)\n",
    "query = \"What is the main topic of this document?\"\n",
    "query2 = \"Summarize the key points in this text.\"\n",
    "result = db.similarity_search(query2)\n",
    "print(result)\n",
    "\n"
   ],
   "id": "5887ebea17fd7003",
   "outputs": [
    {
     "name": "stdout",
     "output_type": "stream",
     "text": [
      "[Document(metadata={}, page_content='War Message to Congress\\nBy Woodrow Wilson\\nApril 2, 1917\\n\\nGentlemen of the Congress:\\n\\nI have called the Congress into extraordinary session because there are serious, very serious, choices of policy to be made, and it is necessary that we should have a clear and definite understanding as to the matters that are to be dealt with and the way in which they are to be handled.\\n\\nOn the 3rd of February last, I officially laid before you the extraordinary announcement of the Imperial German Government that on and after the 1st day of February it was its purpose to put aside all restraints of law or of humanity and use its submarines to sink every vessel that sought to approach either the ports of Great Britain and Ireland or the western coasts of Europe or any of the ports controlled by the enemies of Germany within the Mediterranean.\\n\\nThat policy has been followed with unrelenting severity.'), Document(metadata={}, page_content='War Message to Congress\\nBy Woodrow Wilson\\nApril 2, 1917\\n\\nGentlemen of the Congress:\\n\\nI have called the Congress into extraordinary session because there are serious, very serious, choices of policy to be made, and it is necessary that we should have a clear and definite understanding as to the matters that are to be dealt with and the way in which they are to be handled.\\n\\nOn the 3rd of February last, I officially laid before you the extraordinary announcement of the Imperial German Government that on and after the 1st day of February it was its purpose to put aside all restraints of law or of humanity and use its submarines to sink every vessel that sought to approach either the ports of Great Britain and Ireland or the western coasts of Europe or any of the ports controlled by the enemies of Germany within the Mediterranean.\\n\\nThat policy has been followed with unrelenting severity.'), Document(metadata={}, page_content='War Message to Congress\\nBy Woodrow Wilson\\nApril 2, 1917\\n\\nGentlemen of the Congress:\\n\\nI have called the Congress into extraordinary session because there are serious, very serious, choices of policy to be made, and it is necessary that we should have a clear and definite understanding as to the matters that are to be dealt with and the way in which they are to be handled.\\n\\nOn the 3rd of February last, I officially laid before you the extraordinary announcement of the Imperial German Government that on and after the 1st day of February it was its purpose to put aside all restraints of law or of humanity and use its submarines to sink every vessel that sought to approach either the ports of Great Britain and Ireland or the western coasts of Europe or any of the ports controlled by the enemies of Germany within the Mediterranean.\\n\\nThat policy has been followed with unrelenting severity.'), Document(metadata={}, page_content='War Message to Congress\\nBy Woodrow Wilson\\nApril 2, 1917\\n\\nGentlemen of the Congress:\\n\\nI have called the Congress into extraordinary session because there are serious, very serious, choices of policy to be made, and it is necessary that we should have a clear and definite understanding as to the matters that are to be dealt with and the way in which they are to be handled.\\n\\nOn the 3rd of February last, I officially laid before you the extraordinary announcement of the Imperial German Government that on and after the 1st day of February it was its purpose to put aside all restraints of law or of humanity and use its submarines to sink every vessel that sought to approach either the ports of Great Britain and Ireland or the western coasts of Europe or any of the ports controlled by the enemies of Germany within the Mediterranean.\\n\\nThat policy has been followed with unrelenting severity.')]\n"
     ]
    }
   ],
   "execution_count": 41
  },
  {
   "metadata": {
    "jupyter": {
     "is_executing": true
    },
    "ExecuteTime": {
     "start_time": "2025-03-26T17:11:52.171668Z"
    }
   },
   "cell_type": "code",
   "source": [
    "from langchain_community.document_loaders import WebBaseLoader\n",
    "from langchain.text_splitter import RecursiveCharacterTextSplitter\n",
    "from langchain.embeddings import OllamaEmbeddings\n",
    "from langchain_community.vectorstores import FAISS\n",
    "loader = WebBaseLoader(web_paths=[\"https://en.wikipedia.org/wiki/Human_history\"])\n",
    "data = loader.load()\n",
    "text = [doc.page_content for doc in data]\n",
    "text_splitter = RecursiveCharacterTextSplitter(chunk_size=1000,chunk_overlap=200)\n",
    "documents = text_splitter.create_documents(text)\n",
    "embading = OllamaEmbeddings()\n",
    "db = FAISS.from_documents(documents, embading)\n",
    "query = \"What data you has\"\n",
    "query2 = \"How many years ago modern human evolve in africa\"\n",
    "result = db.similarity_search(query)\n",
    "result2 = db.similarity_search(query2)\n",
    "print(result)\n",
    "print(result2)\n"
   ],
   "id": "89e9d41bede5eccd",
   "outputs": [],
   "execution_count": null
  }
 ],
 "metadata": {
  "kernelspec": {
   "name": "python3",
   "language": "python",
   "display_name": "Python 3 (ipykernel)"
  }
 },
 "nbformat": 5,
 "nbformat_minor": 9
}
