{
 "cells": [
  {
   "metadata": {
    "ExecuteTime": {
     "end_time": "2025-03-29T18:41:36.011622Z",
     "start_time": "2025-03-29T18:38:52.464604Z"
    }
   },
   "cell_type": "code",
   "source": [
    "from langchain_community.document_loaders import TextLoader\n",
    "from langchain.text_splitter import RecursiveCharacterTextSplitter\n",
    "from langchain_ollama import OllamaEmbeddings\n",
    "from langchain.vectorstores import Chroma\n",
    "from langchain_community.llms import Ollama\n",
    "from langchain_core.prompts import ChatPromptTemplate\n",
    "from langchain.chains.combine_documents import create_stuff_documents_chain\n",
    "from langchain.chains import create_retrieval_chain\n",
    "import streamlit as st\n",
    "\n",
    "# Load documents\n",
    "loader = TextLoader(\"speech.txt\")\n",
    "docs = loader.load()\n",
    "print(docs)  # Optional: just to see the loaded docs\n",
    "\n",
    "# Split into chunks\n",
    "text_splitter = RecursiveCharacterTextSplitter(chunk_size=1000, chunk_overlap=200)\n",
    "document = text_splitter.split_documents(docs)\n",
    "\n",
    "# Vectorstore with Ollama Embeddings\n",
    "db = Chroma.from_documents(document[:20], OllamaEmbeddings(model=\"llama2\"))\n",
    "\n",
    "# Setup LLM\n",
    "llm = Ollama(model=\"llama2\")\n",
    "\n",
    "# Setup Prompt Template\n",
    "prompt = ChatPromptTemplate.from_template(\"\"\"\n",
    "answer the following question based on the provided context. Think carefully before answering, it's very high-quality data.\n",
    "<context>{context}</context>\n",
    "Question: {input}\n",
    "\"\"\")\n",
    "\n",
    "# Create chains\n",
    "document_chain = create_stuff_documents_chain(llm, prompt)\n",
    "retriever = db.as_retriever()\n",
    "retrieval_chain = create_retrieval_chain(retriever, document_chain)\n",
    "\n",
    "# Query the chain\n",
    "def data_question(question):\n",
    "    return retrieval_chain.invoke({\"input\":{question}})\n",
    "st.title(\"RAG Question Answering base on Text file\")\n",
    "question = st.text_input(\"Please enter your question:\")\n",
    "if question:\n",
    "    st.write(data_question(question))"
   ],
   "id": "346a70293fc8c401",
   "outputs": [
    {
     "name": "stdout",
     "output_type": "stream",
     "text": [
      "[Document(metadata={'source': 'speech.txt'}, page_content='War Message to Congress\\nBy Woodrow Wilson\\nApril 2, 1917\\n\\nGentlemen of the Congress:\\n\\nI have called the Congress into extraordinary session because there are serious, very serious, choices of policy to be made, and it is necessary that we should have a clear and definite understanding as to the matters that are to be dealt with and the way in which they are to be handled.\\n\\nOn the 3rd of February last, I officially laid before you the extraordinary announcement of the Imperial German Government that on and after the 1st day of February it was its purpose to put aside all restraints of law or of humanity and use its submarines to sink every vessel that sought to approach either the ports of Great Britain and Ireland or the western coasts of Europe or any of the ports controlled by the enemies of Germany within the Mediterranean.\\n\\nThat policy has been followed with unrelenting severity.\\n\\nIt is a war against all nations. American ships have been sunk, American lives taken, in ways which it has stirred us very deeply to learn of, but the ships and people of other neutral and friendly nations have been sunk and overwhelmed in the waters in the same way.\\n\\nThere has been no discrimination. The challenge is to all mankind.\\n\\nEach nation must decide for itself how it will meet it.\\n\\nThe choice we make for ourselves must be made with a moderation of counsel and a temperateness of judgment befitting our character and our motives as a nation.\\n\\nWe must put excited feeling away.\\n\\nOur motive will not be revenge or the victorious assertion of the physical might of the nation, but only the vindication of right, of human right, of which we are only a single champion.\\n\\nWhen I addressed the Congress on the 26th of February last, I thought that it would suffice to assert our neutral rights with arms, our right to use the seas against unlawful interference, our right to keep our people safe against unlawful violence.\\n\\nBut armed neutrality, it now appears, is impracticable.\\n\\nBecause submarines are in effect outlaws when used as the German submarines have been used, against merchant shipping, it is impossible to defend ships against their attacks as the law of nations has assumed that merchantmen would defend themselves against pirates.\\n\\nThe German Government denies the right of neutrals to use arms at all within the areas of the sea which it has proscribed, even in the defense of rights which no modern publicist has ever before questioned their right to defend.\\n\\nThe intimation is conveyed that the armed guards which we have placed on our merchant ships will be treated as beyond the pale of law and subject to be dealt with as pirates would be.\\n\\nArmed neutrality is ineffectual enough at best; in such circumstances and in the face of such pretensions, it is worse than ineffectual: it is likely only to produce what it was meant to prevent; it is practically certain to draw us into the war without either the rights or the effectiveness of belligerents.\\n\\nThere is one choice we cannot make, we are incapable of making: we will not choose the path of submission.\\n\\nWe will not choose the path of submission and suffer the most sacred rights of our nation and our people to be ignored or violated.\\n\\nWith a profound sense of the solemn and even tragical character of the step I am taking and of the grave responsibilities which it involves, but in unhesitating obedience to what I deem my constitutional duty, I advise that the Congress declare the recent course of the Imperial German Government to be in fact nothing less than war against the Government and people of the United States.\\n\\nThat it formally accept the status of belligerent which has thus been thrust upon it.\\n\\nAnd that it take immediate steps not only to put the country in a more thorough state of defense, but also to exert all its power and employ all its resources to bring the Government of the German Empire to terms and end the war.\\n\\nWhat this will involve is clear.\\n\\nIt will involve the utmost practicable cooperation in counsel and action with the governments now at war with Germany, and, as incident to that, the extension to those governments of the most liberal financial credits, in order that our resources may so far as possible be added to theirs.\\n\\nIt will involve the organization and mobilization of all the material resources of the country to supply the materials of war and serve the incidental needs of the nation in the most abundant and yet the most economical and efficient way possible.\\n\\nIt will involve the immediate full equipment of the navy in all respects but particularly in supplying it with the best means of dealing with the enemy’s submarines.\\n\\nIt will involve the immediate addition to the armed forces of the United States, already provided for by law, in case of war, at least five hundred thousand men, who should, in my opinion, be chosen upon the principle of universal liability to service.\\n\\nIt will involve the bringing to the service of the government the entire financial power of the country in order that the resources of the country may be marshaled and organized in aid of the nation.\\n\\nIt will involve the development of an economic mobilization.\\n\\nIt will involve the immediate enlistment of not only of the men, but of all the energy, enthusiasm, and intelligence of the country.\\n\\nIt is a fearful thing to lead this great peaceful people into war, into the most terrible and disastrous of all wars, civilization itself seeming to be in the balance.\\n\\nBut the right is more precious than peace, and we shall fight for the things which we have always carried nearest our hearts.\\n\\nFor democracy, for the right of those who submit to authority to have a voice in their own government, for the rights and liberties of small nations, for\\n\\n')]\n"
     ]
    },
    {
     "data": {
      "text/plain": [
       "{'input': 'What data you has',\n",
       " 'context': [Document(metadata={'source': 'speech.txt'}, page_content='It will involve the bringing to the service of the government the entire financial power of the country in order that the resources of the country may be marshaled and organized in aid of the nation.\\n\\nIt will involve the development of an economic mobilization.\\n\\nIt will involve the immediate enlistment of not only of the men, but of all the energy, enthusiasm, and intelligence of the country.\\n\\nIt is a fearful thing to lead this great peaceful people into war, into the most terrible and disastrous of all wars, civilization itself seeming to be in the balance.\\n\\nBut the right is more precious than peace, and we shall fight for the things which we have always carried nearest our hearts.\\n\\nFor democracy, for the right of those who submit to authority to have a voice in their own government, for the rights and liberties of small nations, for'),\n",
       "  Document(metadata={'source': 'speech.txt'}, page_content='War Message to Congress\\nBy Woodrow Wilson\\nApril 2, 1917\\n\\nGentlemen of the Congress:\\n\\nI have called the Congress into extraordinary session because there are serious, very serious, choices of policy to be made, and it is necessary that we should have a clear and definite understanding as to the matters that are to be dealt with and the way in which they are to be handled.\\n\\nOn the 3rd of February last, I officially laid before you the extraordinary announcement of the Imperial German Government that on and after the 1st day of February it was its purpose to put aside all restraints of law or of humanity and use its submarines to sink every vessel that sought to approach either the ports of Great Britain and Ireland or the western coasts of Europe or any of the ports controlled by the enemies of Germany within the Mediterranean.\\n\\nThat policy has been followed with unrelenting severity.'),\n",
       "  Document(metadata={'source': 'speech.txt'}, page_content='We will not choose the path of submission and suffer the most sacred rights of our nation and our people to be ignored or violated.\\n\\nWith a profound sense of the solemn and even tragical character of the step I am taking and of the grave responsibilities which it involves, but in unhesitating obedience to what I deem my constitutional duty, I advise that the Congress declare the recent course of the Imperial German Government to be in fact nothing less than war against the Government and people of the United States.\\n\\nThat it formally accept the status of belligerent which has thus been thrust upon it.\\n\\nAnd that it take immediate steps not only to put the country in a more thorough state of defense, but also to exert all its power and employ all its resources to bring the Government of the German Empire to terms and end the war.\\n\\nWhat this will involve is clear.'),\n",
       "  Document(metadata={'source': 'speech.txt'}, page_content='The intimation is conveyed that the armed guards which we have placed on our merchant ships will be treated as beyond the pale of law and subject to be dealt with as pirates would be.\\n\\nArmed neutrality is ineffectual enough at best; in such circumstances and in the face of such pretensions, it is worse than ineffectual: it is likely only to produce what it was meant to prevent; it is practically certain to draw us into the war without either the rights or the effectiveness of belligerents.\\n\\nThere is one choice we cannot make, we are incapable of making: we will not choose the path of submission.\\n\\nWe will not choose the path of submission and suffer the most sacred rights of our nation and our people to be ignored or violated.')],\n",
       " 'answer': \"Based on the provided context, the following data can be inferred:\\n\\n1. The government wants to mobilize the country's financial power to aid in the war effort.\\n2. An economic mobilization is needed to marshal and organize the country's resources.\\n3. The government is seeking to enlist not only men but also the energy, enthusiasm, and intelligence of the country in the war effort.\\n4. The speaker considers it a serious matter to lead the country into war, as it could have severe consequences for the nation and its people.\\n5. The speaker believes that democracy, the rights of those who submit to authority, and the rights and liberties of small nations are important enough to go to war over.\\n6. The speaker is advising Congress to declare the recent course of the Imperial German Government as a declaration of war against the United States and to accept the status of belligerent.\\n7. The speaker believes that the country needs to take immediate steps to defend itself and employ all its power and resources to bring the German government to terms and end the war.\\n8. The speaker emphasizes that the country cannot choose the path of submission and that it is important to protect the most sacred rights of the nation and its people.\"}"
      ]
     },
     "execution_count": 11,
     "metadata": {},
     "output_type": "execute_result"
    }
   ],
   "execution_count": 11
  },
  {
   "metadata": {
    "ExecuteTime": {
     "end_time": "2025-03-29T18:26:50.691870Z",
     "start_time": "2025-03-29T18:26:50.689649Z"
    }
   },
   "cell_type": "code",
   "source": "",
   "id": "fadf824915b0d185",
   "outputs": [],
   "execution_count": null
  }
 ],
 "metadata": {
  "kernelspec": {
   "name": "python3",
   "language": "python",
   "display_name": "Python 3 (ipykernel)"
  }
 },
 "nbformat": 5,
 "nbformat_minor": 9
}
